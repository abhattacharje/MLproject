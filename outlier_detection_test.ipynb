{
 "cells": [
  {
   "cell_type": "code",
   "execution_count": 1,
   "id": "ebc6a1ed",
   "metadata": {},
   "outputs": [],
   "source": [
    "import pandas as pd\n",
    "import seaborn as sns\n",
    "import matplotlib.pyplot as plt"
   ]
  },
  {
   "cell_type": "markdown",
   "id": "479a331e",
   "metadata": {},
   "source": [
    "# Reading the data set"
   ]
  },
  {
   "cell_type": "code",
   "execution_count": 10,
   "id": "2a586ad5",
   "metadata": {},
   "outputs": [],
   "source": [
    "data_input = pd.read_csv(\"creditcard.csv\")"
   ]
  },
  {
   "cell_type": "code",
   "execution_count": 3,
   "id": "9c1f3db4",
   "metadata": {},
   "outputs": [
    {
     "data": {
      "text/plain": [
       "<bound method NDFrame.head of             Time         V1         V2        V3        V4        V5  \\\n",
       "0            0.0  -1.359807  -0.072781  2.536347  1.378155 -0.338321   \n",
       "1            0.0   1.191857   0.266151  0.166480  0.448154  0.060018   \n",
       "2            1.0  -1.358354  -1.340163  1.773209  0.379780 -0.503198   \n",
       "3            1.0  -0.966272  -0.185226  1.792993 -0.863291 -0.010309   \n",
       "4            2.0  -1.158233   0.877737  1.548718  0.403034 -0.407193   \n",
       "...          ...        ...        ...       ...       ...       ...   \n",
       "284802  172786.0 -11.881118  10.071785 -9.834783 -2.066656 -5.364473   \n",
       "284803  172787.0  -0.732789  -0.055080  2.035030 -0.738589  0.868229   \n",
       "284804  172788.0   1.919565  -0.301254 -3.249640 -0.557828  2.630515   \n",
       "284805  172788.0  -0.240440   0.530483  0.702510  0.689799 -0.377961   \n",
       "284806  172792.0  -0.533413  -0.189733  0.703337 -0.506271 -0.012546   \n",
       "\n",
       "              V6        V7        V8        V9  ...       V21       V22  \\\n",
       "0       0.462388  0.239599  0.098698  0.363787  ... -0.018307  0.277838   \n",
       "1      -0.082361 -0.078803  0.085102 -0.255425  ... -0.225775 -0.638672   \n",
       "2       1.800499  0.791461  0.247676 -1.514654  ...  0.247998  0.771679   \n",
       "3       1.247203  0.237609  0.377436 -1.387024  ... -0.108300  0.005274   \n",
       "4       0.095921  0.592941 -0.270533  0.817739  ... -0.009431  0.798278   \n",
       "...          ...       ...       ...       ...  ...       ...       ...   \n",
       "284802 -2.606837 -4.918215  7.305334  1.914428  ...  0.213454  0.111864   \n",
       "284803  1.058415  0.024330  0.294869  0.584800  ...  0.214205  0.924384   \n",
       "284804  3.031260 -0.296827  0.708417  0.432454  ...  0.232045  0.578229   \n",
       "284805  0.623708 -0.686180  0.679145  0.392087  ...  0.265245  0.800049   \n",
       "284806 -0.649617  1.577006 -0.414650  0.486180  ...  0.261057  0.643078   \n",
       "\n",
       "             V23       V24       V25       V26       V27       V28  Amount  \\\n",
       "0      -0.110474  0.066928  0.128539 -0.189115  0.133558 -0.021053  149.62   \n",
       "1       0.101288 -0.339846  0.167170  0.125895 -0.008983  0.014724    2.69   \n",
       "2       0.909412 -0.689281 -0.327642 -0.139097 -0.055353 -0.059752  378.66   \n",
       "3      -0.190321 -1.175575  0.647376 -0.221929  0.062723  0.061458  123.50   \n",
       "4      -0.137458  0.141267 -0.206010  0.502292  0.219422  0.215153   69.99   \n",
       "...          ...       ...       ...       ...       ...       ...     ...   \n",
       "284802  1.014480 -0.509348  1.436807  0.250034  0.943651  0.823731    0.77   \n",
       "284803  0.012463 -1.016226 -0.606624 -0.395255  0.068472 -0.053527   24.79   \n",
       "284804 -0.037501  0.640134  0.265745 -0.087371  0.004455 -0.026561   67.88   \n",
       "284805 -0.163298  0.123205 -0.569159  0.546668  0.108821  0.104533   10.00   \n",
       "284806  0.376777  0.008797 -0.473649 -0.818267 -0.002415  0.013649  217.00   \n",
       "\n",
       "        Class  \n",
       "0           0  \n",
       "1           0  \n",
       "2           0  \n",
       "3           0  \n",
       "4           0  \n",
       "...       ...  \n",
       "284802      0  \n",
       "284803      0  \n",
       "284804      0  \n",
       "284805      0  \n",
       "284806      0  \n",
       "\n",
       "[284807 rows x 31 columns]>"
      ]
     },
     "execution_count": 3,
     "metadata": {},
     "output_type": "execute_result"
    }
   ],
   "source": [
    "data_input.head"
   ]
  },
  {
   "cell_type": "code",
   "execution_count": 6,
   "id": "7e16757a",
   "metadata": {},
   "outputs": [
    {
     "data": {
      "text/html": [
       "<div>\n",
       "<style scoped>\n",
       "    .dataframe tbody tr th:only-of-type {\n",
       "        vertical-align: middle;\n",
       "    }\n",
       "\n",
       "    .dataframe tbody tr th {\n",
       "        vertical-align: top;\n",
       "    }\n",
       "\n",
       "    .dataframe thead th {\n",
       "        text-align: right;\n",
       "    }\n",
       "</style>\n",
       "<table border=\"1\" class=\"dataframe\">\n",
       "  <thead>\n",
       "    <tr style=\"text-align: right;\">\n",
       "      <th></th>\n",
       "      <th>Time</th>\n",
       "      <th>V1</th>\n",
       "      <th>V2</th>\n",
       "      <th>V3</th>\n",
       "      <th>V4</th>\n",
       "      <th>V5</th>\n",
       "      <th>V6</th>\n",
       "      <th>V7</th>\n",
       "      <th>V8</th>\n",
       "      <th>V9</th>\n",
       "      <th>...</th>\n",
       "      <th>V21</th>\n",
       "      <th>V22</th>\n",
       "      <th>V23</th>\n",
       "      <th>V24</th>\n",
       "      <th>V25</th>\n",
       "      <th>V26</th>\n",
       "      <th>V27</th>\n",
       "      <th>V28</th>\n",
       "      <th>Amount</th>\n",
       "      <th>Class</th>\n",
       "    </tr>\n",
       "  </thead>\n",
       "  <tbody>\n",
       "    <tr>\n",
       "      <th>count</th>\n",
       "      <td>284807.000000</td>\n",
       "      <td>284807.000000</td>\n",
       "      <td>284807.000000</td>\n",
       "      <td>284807.000000</td>\n",
       "      <td>284807.000000</td>\n",
       "      <td>284807.000000</td>\n",
       "      <td>284807.000000</td>\n",
       "      <td>284807.000000</td>\n",
       "      <td>284807.000000</td>\n",
       "      <td>284807.000000</td>\n",
       "      <td>...</td>\n",
       "      <td>284807.000000</td>\n",
       "      <td>284807.000000</td>\n",
       "      <td>284807.000000</td>\n",
       "      <td>284807.000000</td>\n",
       "      <td>284807.000000</td>\n",
       "      <td>284807.000000</td>\n",
       "      <td>284807.000000</td>\n",
       "      <td>284807.000000</td>\n",
       "      <td>284807.000000</td>\n",
       "      <td>284807.000000</td>\n",
       "    </tr>\n",
       "    <tr>\n",
       "      <th>mean</th>\n",
       "      <td>94813.859575</td>\n",
       "      <td>0.958294</td>\n",
       "      <td>0.767258</td>\n",
       "      <td>0.837414</td>\n",
       "      <td>0.251930</td>\n",
       "      <td>0.765716</td>\n",
       "      <td>0.263020</td>\n",
       "      <td>0.265356</td>\n",
       "      <td>0.785385</td>\n",
       "      <td>0.462780</td>\n",
       "      <td>...</td>\n",
       "      <td>0.561480</td>\n",
       "      <td>0.510031</td>\n",
       "      <td>0.665434</td>\n",
       "      <td>0.382234</td>\n",
       "      <td>0.577907</td>\n",
       "      <td>0.425448</td>\n",
       "      <td>0.416511</td>\n",
       "      <td>0.313124</td>\n",
       "      <td>88.349619</td>\n",
       "      <td>0.001727</td>\n",
       "    </tr>\n",
       "    <tr>\n",
       "      <th>std</th>\n",
       "      <td>47488.145955</td>\n",
       "      <td>0.033276</td>\n",
       "      <td>0.017424</td>\n",
       "      <td>0.026275</td>\n",
       "      <td>0.062764</td>\n",
       "      <td>0.009292</td>\n",
       "      <td>0.013395</td>\n",
       "      <td>0.007537</td>\n",
       "      <td>0.012812</td>\n",
       "      <td>0.037846</td>\n",
       "      <td>...</td>\n",
       "      <td>0.011841</td>\n",
       "      <td>0.033854</td>\n",
       "      <td>0.009274</td>\n",
       "      <td>0.081611</td>\n",
       "      <td>0.029261</td>\n",
       "      <td>0.078771</td>\n",
       "      <td>0.007450</td>\n",
       "      <td>0.006698</td>\n",
       "      <td>250.120109</td>\n",
       "      <td>0.041527</td>\n",
       "    </tr>\n",
       "    <tr>\n",
       "      <th>min</th>\n",
       "      <td>0.000000</td>\n",
       "      <td>0.000000</td>\n",
       "      <td>0.000000</td>\n",
       "      <td>0.000000</td>\n",
       "      <td>0.000000</td>\n",
       "      <td>0.000000</td>\n",
       "      <td>0.000000</td>\n",
       "      <td>0.000000</td>\n",
       "      <td>0.000000</td>\n",
       "      <td>0.000000</td>\n",
       "      <td>...</td>\n",
       "      <td>0.000000</td>\n",
       "      <td>0.000000</td>\n",
       "      <td>0.000000</td>\n",
       "      <td>0.000000</td>\n",
       "      <td>0.000000</td>\n",
       "      <td>0.000000</td>\n",
       "      <td>0.000000</td>\n",
       "      <td>0.000000</td>\n",
       "      <td>0.000000</td>\n",
       "      <td>0.000000</td>\n",
       "    </tr>\n",
       "    <tr>\n",
       "      <th>25%</th>\n",
       "      <td>54201.500000</td>\n",
       "      <td>0.942658</td>\n",
       "      <td>0.760943</td>\n",
       "      <td>0.821985</td>\n",
       "      <td>0.214311</td>\n",
       "      <td>0.761060</td>\n",
       "      <td>0.255295</td>\n",
       "      <td>0.261980</td>\n",
       "      <td>0.783148</td>\n",
       "      <td>0.440626</td>\n",
       "      <td>...</td>\n",
       "      <td>0.557798</td>\n",
       "      <td>0.484730</td>\n",
       "      <td>0.663030</td>\n",
       "      <td>0.334454</td>\n",
       "      <td>0.560104</td>\n",
       "      <td>0.372036</td>\n",
       "      <td>0.415203</td>\n",
       "      <td>0.312049</td>\n",
       "      <td>5.600000</td>\n",
       "      <td>0.000000</td>\n",
       "    </tr>\n",
       "    <tr>\n",
       "      <th>50%</th>\n",
       "      <td>84692.000000</td>\n",
       "      <td>0.958601</td>\n",
       "      <td>0.767949</td>\n",
       "      <td>0.840530</td>\n",
       "      <td>0.251050</td>\n",
       "      <td>0.765351</td>\n",
       "      <td>0.260263</td>\n",
       "      <td>0.265600</td>\n",
       "      <td>0.785625</td>\n",
       "      <td>0.461008</td>\n",
       "      <td>...</td>\n",
       "      <td>0.561005</td>\n",
       "      <td>0.510347</td>\n",
       "      <td>0.665267</td>\n",
       "      <td>0.387756</td>\n",
       "      <td>0.578838</td>\n",
       "      <td>0.416932</td>\n",
       "      <td>0.416536</td>\n",
       "      <td>0.313352</td>\n",
       "      <td>22.000000</td>\n",
       "      <td>0.000000</td>\n",
       "    </tr>\n",
       "    <tr>\n",
       "      <th>75%</th>\n",
       "      <td>139320.500000</td>\n",
       "      <td>0.980645</td>\n",
       "      <td>0.775739</td>\n",
       "      <td>0.855213</td>\n",
       "      <td>0.284882</td>\n",
       "      <td>0.769836</td>\n",
       "      <td>0.267027</td>\n",
       "      <td>0.268831</td>\n",
       "      <td>0.788897</td>\n",
       "      <td>0.483350</td>\n",
       "      <td>...</td>\n",
       "      <td>0.564484</td>\n",
       "      <td>0.534688</td>\n",
       "      <td>0.667626</td>\n",
       "      <td>0.441460</td>\n",
       "      <td>0.597593</td>\n",
       "      <td>0.464807</td>\n",
       "      <td>0.418191</td>\n",
       "      <td>0.314712</td>\n",
       "      <td>77.165000</td>\n",
       "      <td>0.000000</td>\n",
       "    </tr>\n",
       "    <tr>\n",
       "      <th>max</th>\n",
       "      <td>172792.000000</td>\n",
       "      <td>1.000000</td>\n",
       "      <td>1.000000</td>\n",
       "      <td>1.000000</td>\n",
       "      <td>1.000000</td>\n",
       "      <td>1.000000</td>\n",
       "      <td>1.000000</td>\n",
       "      <td>1.000000</td>\n",
       "      <td>1.000000</td>\n",
       "      <td>1.000000</td>\n",
       "      <td>...</td>\n",
       "      <td>1.000000</td>\n",
       "      <td>1.000000</td>\n",
       "      <td>1.000000</td>\n",
       "      <td>1.000000</td>\n",
       "      <td>1.000000</td>\n",
       "      <td>1.000000</td>\n",
       "      <td>1.000000</td>\n",
       "      <td>1.000000</td>\n",
       "      <td>25691.160000</td>\n",
       "      <td>1.000000</td>\n",
       "    </tr>\n",
       "  </tbody>\n",
       "</table>\n",
       "<p>8 rows × 31 columns</p>\n",
       "</div>"
      ],
      "text/plain": [
       "                Time             V1             V2             V3  \\\n",
       "count  284807.000000  284807.000000  284807.000000  284807.000000   \n",
       "mean    94813.859575       0.958294       0.767258       0.837414   \n",
       "std     47488.145955       0.033276       0.017424       0.026275   \n",
       "min         0.000000       0.000000       0.000000       0.000000   \n",
       "25%     54201.500000       0.942658       0.760943       0.821985   \n",
       "50%     84692.000000       0.958601       0.767949       0.840530   \n",
       "75%    139320.500000       0.980645       0.775739       0.855213   \n",
       "max    172792.000000       1.000000       1.000000       1.000000   \n",
       "\n",
       "                  V4             V5             V6             V7  \\\n",
       "count  284807.000000  284807.000000  284807.000000  284807.000000   \n",
       "mean        0.251930       0.765716       0.263020       0.265356   \n",
       "std         0.062764       0.009292       0.013395       0.007537   \n",
       "min         0.000000       0.000000       0.000000       0.000000   \n",
       "25%         0.214311       0.761060       0.255295       0.261980   \n",
       "50%         0.251050       0.765351       0.260263       0.265600   \n",
       "75%         0.284882       0.769836       0.267027       0.268831   \n",
       "max         1.000000       1.000000       1.000000       1.000000   \n",
       "\n",
       "                  V8             V9  ...            V21            V22  \\\n",
       "count  284807.000000  284807.000000  ...  284807.000000  284807.000000   \n",
       "mean        0.785385       0.462780  ...       0.561480       0.510031   \n",
       "std         0.012812       0.037846  ...       0.011841       0.033854   \n",
       "min         0.000000       0.000000  ...       0.000000       0.000000   \n",
       "25%         0.783148       0.440626  ...       0.557798       0.484730   \n",
       "50%         0.785625       0.461008  ...       0.561005       0.510347   \n",
       "75%         0.788897       0.483350  ...       0.564484       0.534688   \n",
       "max         1.000000       1.000000  ...       1.000000       1.000000   \n",
       "\n",
       "                 V23            V24            V25            V26  \\\n",
       "count  284807.000000  284807.000000  284807.000000  284807.000000   \n",
       "mean        0.665434       0.382234       0.577907       0.425448   \n",
       "std         0.009274       0.081611       0.029261       0.078771   \n",
       "min         0.000000       0.000000       0.000000       0.000000   \n",
       "25%         0.663030       0.334454       0.560104       0.372036   \n",
       "50%         0.665267       0.387756       0.578838       0.416932   \n",
       "75%         0.667626       0.441460       0.597593       0.464807   \n",
       "max         1.000000       1.000000       1.000000       1.000000   \n",
       "\n",
       "                 V27            V28         Amount          Class  \n",
       "count  284807.000000  284807.000000  284807.000000  284807.000000  \n",
       "mean        0.416511       0.313124      88.349619       0.001727  \n",
       "std         0.007450       0.006698     250.120109       0.041527  \n",
       "min         0.000000       0.000000       0.000000       0.000000  \n",
       "25%         0.415203       0.312049       5.600000       0.000000  \n",
       "50%         0.416536       0.313352      22.000000       0.000000  \n",
       "75%         0.418191       0.314712      77.165000       0.000000  \n",
       "max         1.000000       1.000000   25691.160000       1.000000  \n",
       "\n",
       "[8 rows x 31 columns]"
      ]
     },
     "execution_count": 6,
     "metadata": {},
     "output_type": "execute_result"
    }
   ],
   "source": [
    "data_input.describe()"
   ]
  },
  {
   "cell_type": "markdown",
   "id": "0fbf64fa",
   "metadata": {},
   "source": [
    "# Scaling the data using min-max scaling"
   ]
  },
  {
   "cell_type": "code",
   "execution_count": 5,
   "id": "5683dc89",
   "metadata": {},
   "outputs": [
    {
     "name": "stdout",
     "output_type": "stream",
     "text": [
      "\n",
      "Scaling the data using min-max feature scaling...\n"
     ]
    }
   ],
   "source": [
    "print(\"\\nScaling the data using min-max feature scaling...\")\n",
    "columns = [\"V1\", \"V2\", \"V3\", \"V4\", \"V5\", \"V6\", \"V7\", \"V8\", \"V9\", \"V10\", \"V11\", \"V12\", \"V13\", \"V14\", \"V15\", \"V16\", \"V17\",\n",
    "           \"V18\", \"V19\", \"V20\", \"V21\", \"V22\", \"V23\", \"V24\", \"V25\", \"V26\", \"V27\", \"V28\"]\n",
    "for col in columns:\n",
    "    data_input[col] = (data_input[col] - data_input[col].min()) / (data_input[col].max() - data_input[col].min())"
   ]
  },
  {
   "cell_type": "markdown",
   "id": "bf0c04ef",
   "metadata": {},
   "source": [
    "# Calculating IQR of the whole data-set"
   ]
  },
  {
   "cell_type": "code",
   "execution_count": null,
   "id": "d7c87b1d",
   "metadata": {},
   "outputs": [],
   "source": [
    "print(\"\\nCalculating Inter Quantile Range...\")\n",
    "Q1 = data_input.quantile(0.25)\n",
    "Q3 = data_input.quantile(0.75)\n",
    "IQR = Q3 - Q1"
   ]
  },
  {
   "cell_type": "markdown",
   "id": "c51f6c89",
   "metadata": {},
   "source": [
    "# Outlier trimming based upon the IQR"
   ]
  },
  {
   "cell_type": "code",
   "execution_count": 8,
   "id": "adc0dcbf",
   "metadata": {},
   "outputs": [
    {
     "name": "stdout",
     "output_type": "stream",
     "text": [
      "\n",
      "Outlier trimming based upon the IQR...\n",
      "(146319, 31)\n"
     ]
    }
   ],
   "source": [
    "print(\"\\nOutlier trimming based upon the IQR...\")\n",
    "data_input = data_input[~((data_input < (Q1 - 1.5 * IQR)) | (data_input > (Q3 + 1.5 * IQR))).any(axis=1)]\n",
    "print(data_input.shape)"
   ]
  },
  {
   "cell_type": "code",
   "execution_count": 9,
   "id": "62d8b8ec",
   "metadata": {},
   "outputs": [
    {
     "data": {
      "text/plain": [
       "{'whiskers': [<matplotlib.lines.Line2D at 0x116def91d90>,\n",
       "  <matplotlib.lines.Line2D at 0x116defa8130>],\n",
       " 'caps': [<matplotlib.lines.Line2D at 0x116defa8490>,\n",
       "  <matplotlib.lines.Line2D at 0x116defa87f0>],\n",
       " 'boxes': [<matplotlib.lines.Line2D at 0x116def91a30>],\n",
       " 'medians': [<matplotlib.lines.Line2D at 0x116defa8b50>],\n",
       " 'fliers': [<matplotlib.lines.Line2D at 0x116defa8eb0>],\n",
       " 'means': []}"
      ]
     },
     "execution_count": 9,
     "metadata": {},
     "output_type": "execute_result"
    },
    {
     "data": {
      "image/png": "[encoded data removed]",
      "text/plain": [
       "<Figure size 432x288 with 1 Axes>"
      ]
     },
     "metadata": {
      "needs_background": "light"
     },
     "output_type": "display_data"
    }
   ],
   "source": [
    "plt.boxplot(data_input[\"V1\"])"
   ]
  },
  {
   "cell_type": "code",
   "execution_count": 11,
   "id": "41796b79",
   "metadata": {},
   "outputs": [
    {
     "data": {
      "text/plain": [
       "{'whiskers': [<matplotlib.lines.Line2D at 0x116df06fa00>,\n",
       "  <matplotlib.lines.Line2D at 0x116df06fd60>],\n",
       " 'caps': [<matplotlib.lines.Line2D at 0x116df07d100>,\n",
       "  <matplotlib.lines.Line2D at 0x116df07d460>],\n",
       " 'boxes': [<matplotlib.lines.Line2D at 0x116df06f6a0>],\n",
       " 'medians': [<matplotlib.lines.Line2D at 0x116df07d7c0>],\n",
       " 'fliers': [<matplotlib.lines.Line2D at 0x116df07db20>],\n",
       " 'means': []}"
      ]
     },
     "execution_count": 11,
     "metadata": {},
     "output_type": "execute_result"
    },
    {
     "data": {
      "image/png": "[encoded data removed]",
      "text/plain": [
       "<Figure size 432x288 with 1 Axes>"
      ]
     },
     "metadata": {
      "needs_background": "light"
     },
     "output_type": "display_data"
    }
   ],
   "source": [
    "plt.boxplot(data_input[\"V1\"])"
   ]
  },
  {
   "cell_type": "code",
   "execution_count": null,
   "id": "c81a9c93",
   "metadata": {},
   "outputs": [],
   "source": []
  }
 ],
 "metadata": {
  "kernelspec": {
   "display_name": "Python 3",
   "language": "python",
   "name": "python3"
  },
  "language_info": {
   "codemirror_mode": {
    "name": "ipython",
    "version": 3
   },
   "file_extension": ".py",
   "mimetype": "text/x-python",
   "name": "python",
   "nbconvert_exporter": "python",
   "pygments_lexer": "ipython3",
   "version": "3.8.8"
  }
 },
 "nbformat": 4,
 "nbformat_minor": 5
}
